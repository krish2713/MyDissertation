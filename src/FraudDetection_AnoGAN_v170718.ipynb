{
  "nbformat": 4,
  "nbformat_minor": 0,
  "metadata": {
    "colab": {
      "provenance": [],
      "gpuType": "T4",
      "machine_shape": "hm"
    },
    "kernelspec": {
      "name": "python3",
      "display_name": "Python 3"
    },
    "language_info": {
      "name": "python"
    },
    "accelerator": "GPU"
  },
  "cells": [
    {
      "cell_type": "code",
      "execution_count": 1,
      "metadata": {
        "id": "KHvrpQuTSENa"
      },
      "outputs": [],
      "source": [
        "import pandas as pd\n",
        "import numpy as np\n",
        "import torch\n",
        "import torch.nn as nn\n",
        "import torch.optim as optim\n",
        "from sklearn.model_selection import train_test_split\n",
        "from sklearn.metrics import roc_auc_score, accuracy_score\n",
        "from sklearn.preprocessing import LabelEncoder, StandardScaler\n",
        "from sklearn.impute import SimpleImputer\n",
        "from torch.utils.data import DataLoader, TensorDataset\n",
        "import hashlib\n"
      ]
    },
    {
      "cell_type": "code",
      "source": [
        "# Load the dataset\n",
        "data = pd.read_csv('/content/drive/MyDrive/creditcard.csv')\n",
        "\n",
        "# Split features and labels\n",
        "X = data.drop('Class', axis=1).values  # Features\n",
        "y = data['Class'].values              # Target (0 = Non-fraud, 1 = Fraud)\n",
        "\n",
        "# Standardize the features\n",
        "scaler = StandardScaler()\n",
        "X = scaler.fit_transform(X)\n",
        "\n",
        "# Split into training and test sets\n",
        "X_train, X_test, y_train, y_test = train_test_split(X, y, test_size=0.01, random_state=42)\n",
        "\n",
        "# Use only non-fraudulent samples for training\n",
        "X_normal = X[y == 0]\n",
        "X_anomaly = X[y == 1]"
      ],
      "metadata": {
        "id": "u82CgeFjztoD"
      },
      "execution_count": 2,
      "outputs": []
    },
    {
      "cell_type": "code",
      "source": [
        "from sklearn.model_selection import train_test_split\n",
        "X_train, X_test_normal = train_test_split(X_normal, test_size=0.01, random_state=42)"
      ],
      "metadata": {
        "id": "Y6T3ydDdei3-"
      },
      "execution_count": 3,
      "outputs": []
    },
    {
      "cell_type": "code",
      "source": [
        "import torch\n",
        "import torch.nn as nn\n",
        "import torch.nn.functional as F\n",
        "\n",
        "class Generator(nn.Module):\n",
        "    def __init__(self, latent_dim, output_dim):\n",
        "        super(Generator, self).__init__()\n",
        "        self.fc1 = nn.Linear(latent_dim, 128)\n",
        "        self.fc2 = nn.Linear(128, 256)\n",
        "        self.fc3 = nn.Linear(256, output_dim)\n",
        "        self.relu = nn.ReLU(inplace=False)\n",
        "\n",
        "    def forward(self, z):\n",
        "        h = self.relu(self.fc1(z))\n",
        "        h = self.relu(self.fc2(h))\n",
        "        x_rec = self.fc3(h)\n",
        "        return x_rec\n",
        "\n",
        "class Discriminator(nn.Module):\n",
        "    def __init__(self, input_dim):\n",
        "        super(Discriminator, self).__init__()\n",
        "        self.fc1 = nn.Linear(input_dim, 256)\n",
        "        self.fc2 = nn.Linear(256, 128)  # We'll take these features for discrimination loss.\n",
        "        self.fc3 = nn.Linear(128, 1)\n",
        "        self.leaky_relu = nn.LeakyReLU(0.2, inplace=False)\n",
        "\n",
        "    def forward(self, x):\n",
        "        h1 = self.leaky_relu(self.fc1(x))\n",
        "        h2 = self.leaky_relu(self.fc2(h1))  # Intermediate features\n",
        "        logits = self.fc3(h2)\n",
        "        return logits, h2\n",
        "\n",
        "\n"
      ],
      "metadata": {
        "id": "1ov8dIw95bJW"
      },
      "execution_count": 4,
      "outputs": []
    },
    {
      "cell_type": "code",
      "source": [
        "import torch.optim as optim\n",
        "from torch.utils.data import DataLoader, TensorDataset\n",
        "import numpy as np\n",
        "\n",
        "# Example hyperparameters and settings.\n",
        "input_dim =  X_normal.shape[1]         # Number of features in the dataset\n",
        "latent_dim = 16\n",
        "num_epochs = 50\n",
        "batch_size = 1024\n",
        "device = torch.device(\"cuda\" if torch.cuda.is_available() else \"cpu\")\n",
        "\n",
        "# Create synthetic normal data for illustration. Replace with your actual data.\n",
        "X_normal_tensor = torch.tensor(X_normal.astype(np.float32), dtype=torch.float32)\n",
        "train_loader = torch.utils.data.DataLoader(X_normal_tensor, batch_size=batch_size, shuffle=False)\n",
        "\n",
        "# Initialize models.\n",
        "generator = Generator(latent_dim, input_dim).to(device)\n",
        "discriminator = Discriminator(input_dim).to(device)\n",
        "\n",
        "# Optimizers\n",
        "lr_G = 1e-4\n",
        "lr_D = 5e-5\n",
        "optimizer_G = optim.Adam(generator.parameters(), lr=lr_G, betas=(0.5, 0.999))\n",
        "optimizer_D = optim.Adam(discriminator.parameters(), lr=lr_D, betas=(0.5, 0.999))\n",
        "\n",
        "# Loss function for GAN training.\n",
        "criterion_adv = nn.BCEWithLogitsLoss()\n",
        "\n",
        "# Labels: using conventional GAN targets:\n",
        "# For real samples: 1, and for fake samples: 0.\n",
        "for epoch in range(num_epochs):\n",
        "    generator.train()\n",
        "    discriminator.train()\n",
        "    total_loss_G = 0.0\n",
        "    total_loss_D = 0.0\n",
        "    n_batches = 0\n",
        "\n",
        "    for i, x_batch in enumerate(train_loader):\n",
        "        x_batch = x_batch.to(device)\n",
        "        cur_batch = x_batch.size(0)\n",
        "        n_batches += 1\n",
        "\n",
        "        # Adversarial ground-truth labels.\n",
        "        real_labels = torch.ones(cur_batch, 1, device=device)\n",
        "        fake_labels = torch.zeros(cur_batch, 1, device=device)\n",
        "\n",
        "        # ---------------------\n",
        "        #  Update Discriminator\n",
        "        # ---------------------\n",
        "        optimizer_D.zero_grad()\n",
        "        # Real samples\n",
        "        logits_real, _ = discriminator(x_batch)\n",
        "        loss_real = criterion_adv(logits_real, real_labels)\n",
        "\n",
        "        # Fake samples: generate from random latent noise.\n",
        "        z = torch.randn(cur_batch, latent_dim, device=device)\n",
        "        x_fake = generator(z).detach()  # Detach to avoid backprop into G.\n",
        "        logits_fake, _ = discriminator(x_fake)\n",
        "        loss_fake = criterion_adv(logits_fake, fake_labels)\n",
        "\n",
        "        loss_D = loss_real + loss_fake\n",
        "        loss_D.backward()\n",
        "        optimizer_D.step()\n",
        "\n",
        "        # ---------------------\n",
        "        #  Update Generator\n",
        "        # ---------------------\n",
        "        optimizer_G.zero_grad()\n",
        "        z = torch.randn(cur_batch, latent_dim, device=device)\n",
        "        x_fake = generator(z)\n",
        "        logits_fake, _ = discriminator(x_fake)\n",
        "        # Generator wants discriminator to label fake samples as real.\n",
        "        loss_G = criterion_adv(logits_fake, real_labels)\n",
        "        loss_G.backward()\n",
        "        optimizer_G.step()\n",
        "\n",
        "        total_loss_D += loss_D.item()\n",
        "        total_loss_G += loss_G.item()\n",
        "\n",
        "    print(f\"Epoch [{epoch+1}/{num_epochs}] Loss_D: {total_loss_D/n_batches:.4f}, Loss_G: {total_loss_G/n_batches:.4f}\")\n",
        "\n",
        "print(\"GAN Training Complete!\")\n"
      ],
      "metadata": {
        "colab": {
          "base_uri": "https://localhost:8080/"
        },
        "id": "m2omYQQDfvmI",
        "outputId": "2bfa7085-aad1-4fbb-e371-f13e41403ec1"
      },
      "execution_count": 5,
      "outputs": [
        {
          "output_type": "stream",
          "name": "stdout",
          "text": [
            "Epoch [1/50] Loss_D: 1.2763, Loss_G: 0.6374\n",
            "Epoch [2/50] Loss_D: 1.2936, Loss_G: 0.7547\n",
            "Epoch [3/50] Loss_D: 1.3238, Loss_G: 0.7938\n",
            "Epoch [4/50] Loss_D: 1.3669, Loss_G: 0.7188\n",
            "Epoch [5/50] Loss_D: 1.3381, Loss_G: 0.7255\n",
            "Epoch [6/50] Loss_D: 1.3578, Loss_G: 0.7015\n",
            "Epoch [7/50] Loss_D: 1.3703, Loss_G: 0.7128\n",
            "Epoch [8/50] Loss_D: 1.3701, Loss_G: 0.7316\n",
            "Epoch [9/50] Loss_D: 1.3678, Loss_G: 0.7299\n",
            "Epoch [10/50] Loss_D: 1.3573, Loss_G: 0.7613\n",
            "Epoch [11/50] Loss_D: 1.3977, Loss_G: 0.7155\n",
            "Epoch [12/50] Loss_D: 1.3782, Loss_G: 0.7043\n",
            "Epoch [13/50] Loss_D: 1.3738, Loss_G: 0.6902\n",
            "Epoch [14/50] Loss_D: 1.3840, Loss_G: 0.7250\n",
            "Epoch [15/50] Loss_D: 1.3457, Loss_G: 0.7398\n",
            "Epoch [16/50] Loss_D: 1.3342, Loss_G: 0.7386\n",
            "Epoch [17/50] Loss_D: 1.3784, Loss_G: 0.7242\n",
            "Epoch [18/50] Loss_D: 1.3350, Loss_G: 0.7280\n",
            "Epoch [19/50] Loss_D: 1.3617, Loss_G: 0.7433\n",
            "Epoch [20/50] Loss_D: 1.3461, Loss_G: 0.6856\n",
            "Epoch [21/50] Loss_D: 1.3445, Loss_G: 0.7514\n",
            "Epoch [22/50] Loss_D: 1.3828, Loss_G: 0.7366\n",
            "Epoch [23/50] Loss_D: 1.3542, Loss_G: 0.6873\n",
            "Epoch [24/50] Loss_D: 1.3738, Loss_G: 0.7374\n",
            "Epoch [25/50] Loss_D: 1.3518, Loss_G: 0.7688\n",
            "Epoch [26/50] Loss_D: 1.3568, Loss_G: 0.7265\n",
            "Epoch [27/50] Loss_D: 1.3659, Loss_G: 0.6930\n",
            "Epoch [28/50] Loss_D: 1.3697, Loss_G: 0.7247\n",
            "Epoch [29/50] Loss_D: 1.3424, Loss_G: 0.7653\n",
            "Epoch [30/50] Loss_D: 1.3276, Loss_G: 0.7373\n",
            "Epoch [31/50] Loss_D: 1.3115, Loss_G: 0.7390\n",
            "Epoch [32/50] Loss_D: 1.3548, Loss_G: 0.7293\n",
            "Epoch [33/50] Loss_D: 1.3222, Loss_G: 0.7423\n",
            "Epoch [34/50] Loss_D: 1.3612, Loss_G: 0.7374\n",
            "Epoch [35/50] Loss_D: 1.3252, Loss_G: 0.7076\n",
            "Epoch [36/50] Loss_D: 1.3083, Loss_G: 0.7743\n",
            "Epoch [37/50] Loss_D: 1.3386, Loss_G: 0.7395\n",
            "Epoch [38/50] Loss_D: 1.3380, Loss_G: 0.7555\n",
            "Epoch [39/50] Loss_D: 1.3682, Loss_G: 0.7502\n",
            "Epoch [40/50] Loss_D: 1.3144, Loss_G: 0.7566\n",
            "Epoch [41/50] Loss_D: 1.3084, Loss_G: 0.7687\n",
            "Epoch [42/50] Loss_D: 1.3439, Loss_G: 0.7294\n",
            "Epoch [43/50] Loss_D: 1.3071, Loss_G: 0.7487\n",
            "Epoch [44/50] Loss_D: 1.3073, Loss_G: 0.7905\n",
            "Epoch [45/50] Loss_D: 1.3188, Loss_G: 0.7687\n",
            "Epoch [46/50] Loss_D: 1.2868, Loss_G: 0.7710\n",
            "Epoch [47/50] Loss_D: 1.2795, Loss_G: 0.7677\n",
            "Epoch [48/50] Loss_D: 1.2793, Loss_G: 0.7745\n",
            "Epoch [49/50] Loss_D: 1.3240, Loss_G: 0.7453\n",
            "Epoch [50/50] Loss_D: 1.2712, Loss_G: 0.7620\n",
            "GAN Training Complete!\n"
          ]
        }
      ]
    },
    {
      "cell_type": "code",
      "source": [
        "def optimize_z_for_sample(x, generator, discriminator, latent_dim, num_steps=500, lr=1e-2, lambda_disc=0.1):\n",
        "    \"\"\"\n",
        "    For a given test sample x, optimize latent vector z to minimize a combined loss.\n",
        "    The loss is a weighted sum of:\n",
        "      - Residual loss: || x - G(z) || (L1 loss)\n",
        "      - Discrimination loss: || f(x) - f(G(z)) || (L1 or L2 on intermediate features)\n",
        "    Returns the optimized z and the final loss (which is the anomaly score).\n",
        "    \"\"\"\n",
        "    # Initialize z randomly.\n",
        "    z = torch.randn(1, latent_dim, device=device, requires_grad=True)\n",
        "    optimizer_z = optim.Adam([z], lr=lr)\n",
        "\n",
        "    # Get discriminator features for x (without gradient)\n",
        "    discriminator.eval()\n",
        "    with torch.no_grad():\n",
        "        _, feat_x = discriminator(x.unsqueeze(0))\n",
        "\n",
        "    for step in range(num_steps):\n",
        "        optimizer_z.zero_grad()\n",
        "        x_rec = generator(z)\n",
        "        # Residual loss (L1)\n",
        "        loss_res = torch.mean(torch.abs(x - x_rec.squeeze(0)))\n",
        "        # Get features for reconstructed x\n",
        "        logits_rec, feat_rec = discriminator(x_rec)\n",
        "        # Discrimination loss: L1 difference in features\n",
        "        loss_disc = torch.mean(torch.abs(feat_x - feat_rec))\n",
        "        loss = loss_res + lambda_disc * loss_disc\n",
        "        loss.backward()\n",
        "        optimizer_z.step()\n",
        "    return z.detach(), loss.item()\n",
        "\n",
        "\n"
      ],
      "metadata": {
        "id": "V64eqlBPgDro"
      },
      "execution_count": 6,
      "outputs": []
    },
    {
      "cell_type": "code",
      "source": [
        "\n",
        "# Randomly sample samples each from X_test_normal and X_anomaly\n",
        "num_samples = 300\n",
        "num_samples_an = 300\n",
        "X_test_normal_sampled = pd.DataFrame(X_test_normal).sample(n=num_samples, random_state=42) # Replace X_test_normal with the variable holding the normal test data\n",
        "X_anomaly_sampled = pd.DataFrame(X_anomaly).sample(n=num_samples_an, random_state=42)\n",
        "\n",
        "# Create the test dataset and labels\n",
        "X_test = pd.concat([X_test_normal_sampled, X_anomaly_sampled])\n",
        "y_test = np.concatenate([np.zeros(num_samples, dtype=int), np.ones(num_samples_an, dtype=int)])\n",
        "\n",
        "# # Create an index array\n",
        "indices = np.arange(X_test.shape[0])\n",
        "\n",
        "# Shuffle the index array\n",
        "np.random.shuffle(indices)\n",
        "\n",
        "# Use the shuffled indices to reorder X_test and y_test\n",
        "X_test_shuffled = X_test.iloc[indices]\n",
        "y_test_shuffled = y_test[indices]\n",
        "\n",
        "# Convert to tensors\n",
        "test_x_tensor = torch.tensor(X_test_shuffled.values, dtype=torch.float32).to(device)\n",
        "test_y_tensor = torch.tensor(y_test_shuffled, dtype=torch.long).to(device)\n",
        "\n",
        "# Create a TensorDataset from the tensors.\n",
        "test_dataset = TensorDataset(test_x_tensor, test_y_tensor)\n",
        "\n",
        "# Create a DataLoader. The batch_size can be adjusted as needed.\n",
        "batch_size = 32 # Example batch size; adjust as needed.\n",
        "test_loader = DataLoader(test_dataset, batch_size=batch_size, shuffle=False)\n"
      ],
      "metadata": {
        "id": "NpnSrDtPMfki"
      },
      "execution_count": 7,
      "outputs": []
    },
    {
      "cell_type": "code",
      "source": [
        "# Inference over a test set:\n",
        "# Assume test_loader yields (x, label) pairs.\n",
        "anomaly_scores = []\n",
        "y_true = []\n",
        "inference_times = []\n",
        "\n",
        "generator.eval()\n",
        "# encoder.eval()  # Not used directly in inference for AnoGAN, but may be if you combine methods.\n",
        "discriminator.eval()\n",
        "\n",
        "import time\n",
        "\n",
        "for x, label in test_loader:  # Process one sample at a time for demonstration.\n",
        "    # For AnoGAN, we optimize z for each sample separately.\n",
        "    # Here we assume x is a single sample; if batch processing is needed, loop over batch.\n",
        "    x = x[0].to(device)  # Use the first sample in the batch (or loop over all)\n",
        "    y_true.append(label[0].item())\n",
        "\n",
        "    start_time = time.time()\n",
        "    _, score = optimize_z_for_sample(x, generator, discriminator, latent_dim,\n",
        "                                     num_steps=200, lr=1e-2, lambda_disc=0.1)\n",
        "    inference_times.append(time.time() - start_time)\n",
        "    anomaly_scores.append(score)\n",
        "\n",
        "import numpy as np\n",
        "from sklearn.metrics import roc_auc_score, average_precision_score\n",
        "\n",
        "print(\"Average inference time per sample: {:.4f} seconds\".format(np.mean(inference_times)))\n",
        "auroc = roc_auc_score(y_true, anomaly_scores)\n",
        "ap = average_precision_score(y_true, anomaly_scores)\n",
        "print(\"AUROC: {:.4f}, Average Precision: {:.4f}\".format(auroc, ap))"
      ],
      "metadata": {
        "colab": {
          "base_uri": "https://localhost:8080/"
        },
        "id": "T9NobXmmgSJw",
        "outputId": "52a9f36b-57df-4002-88fb-d5c871d816dc"
      },
      "execution_count": 8,
      "outputs": [
        {
          "output_type": "stream",
          "name": "stdout",
          "text": [
            "Average inference time per sample: 0.3607 seconds\n",
            "AUROC: 0.9615, Average Precision: 0.9856\n"
          ]
        }
      ]
    },
    {
      "cell_type": "code",
      "source": [
        "import numpy as np\n",
        "from sklearn.metrics import precision_score, recall_score, f1_score\n",
        "\n",
        "# Suppose these are defined from your ALAD model inference:\n",
        "# y_true: true labels, e.g. np.array([...])\n",
        "# anomaly_scores: continuous anomaly scores, e.g. np.array([...])\n",
        "\n",
        "# Convert lists to numpy arrays if necessary.\n",
        "y_true = np.array(y_true)\n",
        "anomaly_scores = np.array(anomaly_scores)\n",
        "\n",
        "# Option 1: Determine threshold using the 95th percentile of normal samples.\n",
        "# (Assumes that normal samples are labeled 0.)\n",
        "normal_scores = anomaly_scores[y_true == 0]\n",
        "threshold = np.percentile(normal_scores, 90)\n",
        "print(\"Threshold based on 95th percentile of normal samples:\", threshold)\n",
        "\n",
        "# Option 2: Or set a manual threshold (uncomment below if needed).\n",
        "# threshold = 0.5\n",
        "\n",
        "# Generate binary predictions: predict fraud (1) if score > threshold, else normal (0)\n",
        "y_pred = (anomaly_scores < threshold).astype(int)\n",
        "\n",
        "# Calculate precision, recall, and F1 score\n",
        "precision = precision_score(y_true, y_pred)\n",
        "recall = recall_score(y_true, y_pred)\n",
        "f1 = f1_score(y_true, y_pred)\n",
        "\n",
        "print(\"Precision: {:.4f}\".format(precision))\n",
        "print(\"Recall: {:.4f}\".format(recall))\n",
        "print(\"F1 Score: {:.4f}\".format(f1))"
      ],
      "metadata": {
        "colab": {
          "base_uri": "https://localhost:8080/"
        },
        "id": "LOOQRbZ9g0FI",
        "outputId": "9bc267ab-96b2-48e9-c3f1-c36d578677a1"
      },
      "execution_count": 9,
      "outputs": [
        {
          "output_type": "stream",
          "name": "stdout",
          "text": [
            "Threshold based on 95th percentile of normal samples: 0.8759109079837799\n",
            "Precision: 0.1667\n",
            "Recall: 0.0769\n",
            "F1 Score: 0.1053\n"
          ]
        }
      ]
    },
    {
      "cell_type": "code",
      "source": [
        "import matplotlib.pyplot as plt\n",
        "import numpy as np\n",
        "\n",
        "# Assume y_true and anomaly_scores are NumPy arrays\n",
        "# where y_true==0 for normal and y_true==1 for anomalies.\n",
        "\n",
        "\n",
        "normal_scores = anomaly_scores[y_true == 0]\n",
        "anomaly_scores_only = anomaly_scores[y_true == 1]\n",
        "\n",
        "plt.hist(normal_scores, bins=50, alpha=0.6, label='Normal')\n",
        "plt.hist(anomaly_scores_only, bins=50, alpha=0.6, label='Anomaly')\n",
        "plt.xlabel(\"Anomaly Score\")\n",
        "plt.ylabel(\"Frequency\")\n",
        "plt.title(\"Distribution of Anomaly Scores\")\n",
        "plt.legend()\n",
        "plt.show()"
      ],
      "metadata": {
        "colab": {
          "base_uri": "https://localhost:8080/",
          "height": 472
        },
        "id": "b6QVVFwxg8yY",
        "outputId": "9223f65a-cbf7-48d2-b488-35c77239ac2c"
      },
      "execution_count": 10,
      "outputs": [
        {
          "output_type": "display_data",
          "data": {
            "text/plain": [
              "<Figure size 640x480 with 1 Axes>"
            ],
            "image/png": "[encoded data removed]"
          },
          "metadata": {}
        }
      ]
    },
    {
      "cell_type": "code",
      "source": [
        "import numpy as np\n",
        "import matplotlib.pyplot as plt\n",
        "from sklearn.metrics import precision_recall_curve, auc, average_precision_score\n",
        "\n",
        "# Compute Precision-Recall curve\n",
        "precision, recall, _ = precision_recall_curve(y_true, anomaly_scores)\n",
        "\n",
        "# Compute AUPRC (Area Under PR Curve)\n",
        "auprc = auc(recall, precision)  # Using AUC function\n",
        "ap_score = average_precision_score(y_true, anomaly_scores)  # Direct AUPRC score\n",
        "\n",
        "print(f\"AUPRC (using auc function): {auprc:.4f}\")\n",
        "print(f\"AUPRC (using average_precision_score): {ap_score:.4f}\")\n",
        "\n",
        "# Plot Precision-Recall curve\n",
        "plt.figure(figsize=(6, 5))\n",
        "plt.plot(recall, precision, marker='.', label=f'AUPRC = {auprc:.4f}')\n",
        "plt.xlabel('Recall')\n",
        "plt.ylabel('Precision')\n",
        "plt.title('Precision-Recall Curve')\n",
        "plt.legend()\n",
        "plt.grid()\n",
        "plt.show()"
      ],
      "metadata": {
        "id": "RW4uSWw2W8Lw",
        "colab": {
          "base_uri": "https://localhost:8080/",
          "height": 523
        },
        "outputId": "1d2be1a6-1061-48b5-b615-c1418c4ea682"
      },
      "execution_count": 11,
      "outputs": [
        {
          "output_type": "stream",
          "name": "stdout",
          "text": [
            "AUPRC (using auc function): 0.9851\n",
            "AUPRC (using average_precision_score): 0.9856\n"
          ]
        },
        {
          "output_type": "display_data",
          "data": {
            "text/plain": [
              "<Figure size 600x500 with 1 Axes>"
            ],
            "image/png": "[encoded data removed]"
          },
          "metadata": {}
        }
      ]
    }
  ]
}